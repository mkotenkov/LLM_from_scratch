{
 "cells": [
  {
   "cell_type": "code",
   "execution_count": 1,
   "metadata": {},
   "outputs": [],
   "source": [
    "import torch\n",
    "import torch.nn as nn\n",
    "import torch.nn.functional as F\n",
    "\n",
    "from time import time\n",
    "\n",
    "from modules.tokenizer import Tokenizer\n",
    "from modules.transformer import Transformer, TransformerConfig, SamplingStrategy\n",
    "from modules.data import WikipediaTokenizedDataset\n",
    "\n",
    "TEST_EXAMPLE = \"\"\"\n",
    "What is a piece of text? 101. Hello, 102. (1) [2] 567890\n",
    "A text is a passage of words that conveys a set of meanings to the person who is reading it. \n",
    "It’s a body of written work, in various forms and structures, that can be words, phrases and sentences that piece together a passage of written work.\n",
    "To put it as simply as possible, it is a group of words. But it can come in many different forms.\n",
    "A text can be written materials, such as books, magazines, newspapers, or online content. \n",
    "But it can also be other things, those that we may not associate with standard text. \n",
    "Text could be movies, scripts, paintings, songs, political cartoons, advertisements and maps. \n",
    "If we can look at something with words and sentences, explore it, find layers of meaning in it, and draw information and conclusions from it, you’re looking at a text.\"\"\"\n",
    "\n",
    "device = \"mps\"\n",
    "\n",
    "tokenizer = Tokenizer.init_and_load(\"/Users/maksimkoltugin/Dev/huawei_LLM_test_task/checkpoints/tokenizer/tokenizer_15k_10k_uncased.pkl\")"
   ]
  },
  {
   "cell_type": "code",
   "execution_count": 2,
   "metadata": {},
   "outputs": [],
   "source": [
    "# transformer = Transformer.init_and_load(\"/Users/maksimkoltugin/Dev/huawei_LLM_test_task/checkpoints/transformer_uncased/ckpts/ckpt_200.pt\")\n",
    "# transformer = Transformer.init_and_load(\"/Users/maksimkoltugin/Dev/huawei_LLM_test_task/weights/ckpts/transformer_uncased/model_100.pt\")\n",
    "\n",
    "transformer = Transformer()\n",
    "transformer = transformer.to(device)"
   ]
  },
  {
   "cell_type": "code",
   "execution_count": 3,
   "metadata": {},
   "outputs": [
    {
     "data": {
      "text/plain": [
       "torch.Size([3, 16])"
      ]
     },
     "execution_count": 3,
     "metadata": {},
     "output_type": "execute_result"
    }
   ],
   "source": [
    "list_of_texts = [\n",
    "    \"What is a piece of text?\",\n",
    "    \"A text is a passage of words that conveys a set of meanings.\",\n",
    "    \"To put it as simply as possible, it is a group of words.\",\n",
    "]\n",
    "\n",
    "ids, mask = tokenizer(list_of_texts)\n",
    "ids.shape"
   ]
  },
  {
   "cell_type": "code",
   "execution_count": 4,
   "metadata": {},
   "outputs": [
    {
     "data": {
      "text/plain": [
       "SamplingStrategy(greedy=False, temperature=1.0, top_k=None, top_p=None, repetition_penalty=1.0)"
      ]
     },
     "execution_count": 4,
     "metadata": {},
     "output_type": "execute_result"
    }
   ],
   "source": [
    "from dataclasses import dataclass\n",
    "from typing import Optional\n",
    "\n",
    "\n",
    "@dataclass\n",
    "class SamplingStrategy:\n",
    "    greedy: bool = False\n",
    "    temperature: float = 1.0\n",
    "    top_k: Optional[int] = None\n",
    "    top_p: Optional[float] = None\n",
    "    repetition_penalty: float = 1.0\n",
    "\n",
    "SamplingStrategy()"
   ]
  },
  {
   "cell_type": "code",
   "execution_count": 7,
   "metadata": {},
   "outputs": [
    {
     "data": {
      "text/plain": [
       "torch.Size([3, 26])"
      ]
     },
     "execution_count": 7,
     "metadata": {},
     "output_type": "execute_result"
    }
   ],
   "source": [
    "from torch import topk\n",
    "\n",
    "\n",
    "\n",
    "gen = transformer.generate(ids, 10, SamplingStrategy(top_p=0.50), attn_mask=mask)\n",
    "gen.shape"
   ]
  },
  {
   "cell_type": "code",
   "execution_count": 8,
   "metadata": {},
   "outputs": [
    {
     "data": {
      "text/plain": [
       "['what is a piece of text? heloglesic growstri manor\\x0bafric prosper rolling',\n",
       " 'a text is a passage of words that conveys a set of meanings.munuka cadest accessedfia housing disqualmag full',\n",
       " 'to put it as simply as possible, it is a group of words. henry agents rider reynolds pav althoughel mymlalth']"
      ]
     },
     "execution_count": 8,
     "metadata": {},
     "output_type": "execute_result"
    }
   ],
   "source": [
    "tokenizer.decode_batch(gen)"
   ]
  }
 ],
 "metadata": {
  "kernelspec": {
   "display_name": "huawei_llm_test_task",
   "language": "python",
   "name": "python3"
  },
  "language_info": {
   "codemirror_mode": {
    "name": "ipython",
    "version": 3
   },
   "file_extension": ".py",
   "mimetype": "text/x-python",
   "name": "python",
   "nbconvert_exporter": "python",
   "pygments_lexer": "ipython3",
   "version": "3.12.1"
  }
 },
 "nbformat": 4,
 "nbformat_minor": 2
}
